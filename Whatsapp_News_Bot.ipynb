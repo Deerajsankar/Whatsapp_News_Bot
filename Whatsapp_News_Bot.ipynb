{
 "cells": [
  {
   "cell_type": "code",
   "execution_count": 1,
   "id": "50ba86e8",
   "metadata": {},
   "outputs": [
    {
     "name": "stdout",
     "output_type": "stream",
     "text": [
      "Requirement already satisfied: twilio in d:\\pythondatscience\\lib\\site-packages (9.6.2)\n",
      "Requirement already satisfied: requests>=2.0.0 in d:\\pythondatscience\\lib\\site-packages (from twilio) (2.31.0)\n",
      "Requirement already satisfied: PyJWT<3.0.0,>=2.0.0 in d:\\pythondatscience\\lib\\site-packages (from twilio) (2.4.0)\n",
      "Requirement already satisfied: aiohttp>=3.8.4 in d:\\pythondatscience\\lib\\site-packages (from twilio) (3.8.5)\n",
      "Requirement already satisfied: aiohttp-retry>=2.8.3 in d:\\pythondatscience\\lib\\site-packages (from twilio) (2.9.1)\n",
      "Requirement already satisfied: attrs>=17.3.0 in d:\\pythondatscience\\lib\\site-packages (from aiohttp>=3.8.4->twilio) (22.1.0)\n",
      "Requirement already satisfied: charset-normalizer<4.0,>=2.0 in d:\\pythondatscience\\lib\\site-packages (from aiohttp>=3.8.4->twilio) (2.0.4)\n",
      "Requirement already satisfied: multidict<7.0,>=4.5 in d:\\pythondatscience\\lib\\site-packages (from aiohttp>=3.8.4->twilio) (6.0.2)\n",
      "Requirement already satisfied: async-timeout<5.0,>=4.0.0a3 in d:\\pythondatscience\\lib\\site-packages (from aiohttp>=3.8.4->twilio) (4.0.2)\n",
      "Requirement already satisfied: yarl<2.0,>=1.0 in d:\\pythondatscience\\lib\\site-packages (from aiohttp>=3.8.4->twilio) (1.8.1)\n",
      "Requirement already satisfied: frozenlist>=1.1.1 in d:\\pythondatscience\\lib\\site-packages (from aiohttp>=3.8.4->twilio) (1.3.3)\n",
      "Requirement already satisfied: aiosignal>=1.1.2 in d:\\pythondatscience\\lib\\site-packages (from aiohttp>=3.8.4->twilio) (1.2.0)\n",
      "Requirement already satisfied: idna<4,>=2.5 in d:\\pythondatscience\\lib\\site-packages (from requests>=2.0.0->twilio) (3.4)\n",
      "Requirement already satisfied: urllib3<3,>=1.21.1 in d:\\pythondatscience\\lib\\site-packages (from requests>=2.0.0->twilio) (1.26.16)\n",
      "Requirement already satisfied: certifi>=2017.4.17 in d:\\pythondatscience\\lib\\site-packages (from requests>=2.0.0->twilio) (2023.7.22)\n"
     ]
    }
   ],
   "source": [
    "!pip install twilio"
   ]
  },
  {
   "cell_type": "code",
   "execution_count": 1,
   "id": "50e16b2e",
   "metadata": {},
   "outputs": [],
   "source": [
    "import requests\n",
    "import time\n",
    "from twilio.rest import Client"
   ]
  },
  {
   "cell_type": "code",
   "execution_count": null,
   "id": "d0bbf428",
   "metadata": {},
   "outputs": [],
   "source": [
    "NEWSDATA_API_KEY = \"your_newsapi_key\"\n",
    "TWILIO_SID = \"your_twilio_sid\"\n",
    "TWILIO_AUTH_TOKEN = \"your_twilio_auth_token\"\n",
    "FROM_WHATSAPP_NUMBER = \"whatsapp:+14155238886\" #whatsapp:+14155238886 is a universal number and all users can use this \n",
    "TO_WHATSAPP_NUMBER = \"whatsapp:+91xxxxxxxxxx\"  \n",
    "\n",
    "\n",
    "client = Client(TWILIO_SID, TWILIO_AUTH_TOKEN)\n",
    "\n",
    "def get_latest_news():\n",
    "    url = (\n",
    "        f\"https://newsapi.org/v2/everything?q=India Pakistan conflict&from=2025-05-04&sortBy=publishedAt&apiKey={NEWSDATA_API_KEY}\"\n",
    "    )\n",
    "    response = requests.get(url)\n",
    "    data = response.json()\n",
    "    if data.get(\"status\") == \"ok\" and data.get(\"articles\"):\n",
    "        messages = []\n",
    "        for article in data[\"articles\"][:3]:\n",
    "            title = article[\"title\"]\n",
    "            source = article[\"source\"][\"name\"]\n",
    "            pub_date = article[\"publishedAt\"]\n",
    "            link = article[\"url\"]\n",
    "            messages.append(f\"🗞️ *{title}*\\n📍{source} | 🕒 {pub_date}\\n🔗 {link}\")\n",
    "        return \"\\n\\n\".join(messages)\n",
    "    return \"⚠️ No news found.\"\n",
    "\n",
    "def send_whatsapp_message(message):\n",
    "    client.messages.create(\n",
    "        from_=FROM_WHATSAPP_NUMBER,\n",
    "        body=message,\n",
    "        to=TO_WHATSAPP_NUMBER\n",
    "    )\n",
    "\n",
    "while True:\n",
    "    news = get_latest_news()\n",
    "    send_whatsapp_message(news)\n",
    "    time.sleep(3600)  # Every hour\n"
   ]
  },
  {
   "cell_type": "code",
   "execution_count": null,
   "id": "6c39f69b",
   "metadata": {},
   "outputs": [],
   "source": []
  }
 ],
 "metadata": {
  "kernelspec": {
   "display_name": "Python 3 (ipykernel)",
   "language": "python",
   "name": "python3"
  },
  "language_info": {
   "codemirror_mode": {
    "name": "ipython",
    "version": 3
   },
   "file_extension": ".py",
   "mimetype": "text/x-python",
   "name": "python",
   "nbconvert_exporter": "python",
   "pygments_lexer": "ipython3",
   "version": "3.11.5"
  }
 },
 "nbformat": 4,
 "nbformat_minor": 5
}
